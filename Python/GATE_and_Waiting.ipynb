{
 "cells": [
  {
   "cell_type": "code",
   "execution_count": null,
   "metadata": {},
   "outputs": [],
   "source": [
    "import pandas as pd\n",
    "import numpy as np\n",
    "pd.options.display.float_format = '{:.3f}'.format # 지수표시 X\n",
    "np.set_printoptions(suppress=True,precision=3) # 소수점 반올림\n",
    "fir = pd.read_csv(r'C:\\Users\\user\\Desktop\\python workplace\\fiter.csv',encoding='utf-8-sig')\n",
    "df1 = pd.read_csv(r'C:\\Users\\user\\Desktop\\python workplace\\fiter_mac_num.csv',encoding='utf-8-sig')\n",
    "fir['역명'] = fir['역명'].str.extract('(\\w+)')\n",
    "df1['역사명'] = df1['역사명'].str.extract('(\\w+)')\n",
    "\n",
    "def mac_df(fir,df1):\n",
    "    for i in df1.index:\n",
    "        if len(fir[fir['역명'] == df1.loc[i,'역사명']]) == 1:\n",
    "            fir_index = fir[fir['역명']==df1.loc[i,'역사명']].index\n",
    "            fir.loc[fir_index,'개찰구'] = df1.loc[i,'개집표기 '].astype('int')\n",
    "        elif len(fir[fir['역명'] == df1.loc[i,'역사명']]) > 1:\n",
    "            fir_index = fir[fir['역명']== df1.loc[i,'역사명']].index\n",
    "            for s in fir_index:\n",
    "                st_name = fir.loc[s,'역명']\n",
    "                st_num = fir.loc[s,'호선']\n",
    "                st_mac = df1[(df1['역사명'] == st_name) & (df1['호선'] == st_num)]['개집표기 '].astype('int').values\n",
    "                try:\n",
    "                    fir.loc[s,'개찰구'] = st_mac\n",
    "                except ValueError:\n",
    "                    pass\n",
    "        else:\n",
    "            pass\n",
    "    \n",
    "    return fir\n",
    "update_df = mac_df(fir,df1)\n",
    "update_df.to_csv(r'C:\\Users\\user\\Desktop\\python workplace\\fin1~9.csv', encoding=\"utf-8-sig\",index=False)"
   ]
  },
  {
   "cell_type": "code",
   "execution_count": null,
   "metadata": {},
   "outputs": [],
   "source": [
    "df = pd.read_csv(r'C:\\Users\\user\\Desktop\\python workplace\\fin1~9.csv',encoding='utf-8-sig')"
   ]
  },
  {
   "cell_type": "code",
   "execution_count": null,
   "metadata": {},
   "outputs": [],
   "source": [
    "num_list = df[df['역명'] == '구로디지털단지'].index\n",
    "for i in num_list:\n",
    "    df.loc[i,'개찰구'] = 41"
   ]
  },
  {
   "cell_type": "code",
   "execution_count": null,
   "metadata": {},
   "outputs": [],
   "source": [
    "num_list = df[df['역명'] == '성신여대입구'].index\n",
    "for i in num_list:\n",
    "    df.loc[i,'개찰구'] = 34\n",
    "\n",
    "\n"
   ]
  },
  {
   "cell_type": "code",
   "execution_count": null,
   "metadata": {},
   "outputs": [],
   "source": [
    "num_list = df[df['역명'] == '이대'].index\n",
    "for i in num_list:\n",
    "    df.loc[i,'개찰구'] = 22"
   ]
  },
  {
   "cell_type": "code",
   "execution_count": null,
   "metadata": {},
   "outputs": [],
   "source": [
    "num_list = df[df['역명'] == '총신대입구'].index\n",
    "for i in num_list:\n",
    "    df.loc[i,'개찰구'] = 26"
   ]
  },
  {
   "cell_type": "code",
   "execution_count": null,
   "metadata": {},
   "outputs": [],
   "source": [
    "num_list = df[df['역명'] == '한성대입구'].index\n",
    "for i in num_list:\n",
    "    df.loc[i,'개찰구'] = 21"
   ]
  },
  {
   "cell_type": "code",
   "execution_count": null,
   "metadata": {},
   "outputs": [],
   "source": [
    "num_list = df[df['역명'] == '효창공원앞'].index\n",
    "for i in num_list:\n",
    "    df.loc[i,'개찰구'] = 13"
   ]
  },
  {
   "cell_type": "code",
   "execution_count": null,
   "metadata": {},
   "outputs": [],
   "source": [
    "df = df.drop(df[df['개찰구'] == 0].index)\n",
    "df[df['개찰구'] == 0]"
   ]
  },
  {
   "cell_type": "code",
   "execution_count": null,
   "metadata": {},
   "outputs": [],
   "source": [
    "df = df.drop(df[df['06시이전'] == 0].index)\n",
    "df[df['06시이전'] == 0]\n",
    "df.to_csv(r'C:\\Users\\user\\Desktop\\python workplace\\fin1~9.csv', encoding=\"utf-8-sig\",index=False)\n"
   ]
  },
  {
   "cell_type": "code",
   "execution_count": null,
   "metadata": {},
   "outputs": [],
   "source": [
    "import math\n",
    "import pandas as pd\n",
    "def fr(arrival_num,service_time,mac_num):\n",
    "    S = mac_num-1\n",
    "    sum_val1 = 0\n",
    "    for n_fac in range(0,S+1):\n",
    "        sum_val1 += (((arrival_num / service_time)**n_fac) / math.factorial(n_fac))\n",
    "    Po_num = 1/(sum_val1+((arrival_num/service_time)**mac_num)/(math.factorial(mac_num)*\n",
    "                                                                (1-(arrival_num/service_time)/(mac_num))))\n",
    "    L1= (((arrival_num/service_time)**(mac_num+1))/((mac_num-(arrival_num/service_time))*\n",
    "                                                    (math.factorial(mac_num-1)))*Po_num) + \\\n",
    "                                                        (arrival_num/service_time)\n",
    "                                                        \n",
    "    L1 = (((L1 -(arrival_num/service_time))/service_time)) * 60\n",
    "    return L1\n",
    "\n",
    "def cal(arrival_num,service_time,ma_num):\n",
    "    div_pop = arrival_num / 1510\n",
    "    sr = 37\n",
    "    div_ma = ma_num / 2\n",
    "    wa_time = fr(div_pop,sr,int(div_ma))\n",
    "    return wa_time\n",
    "\n",
    "col_list = range(12,19)\n",
    "service_time = 37\n",
    "for s in df.index:\n",
    "    ma_num = df.loc[s,'개찰구']\n",
    "    arrive_time_list = df.iloc[s,12:].values\n",
    "    arrive_time_list\n",
    "\n",
    "    for index, arrival_num in zip(col_list,arrive_time_list):\n",
    "        print(s)\n",
    "        wa_time = cal(arrival_num,service_time,ma_num)\n",
    "        df.iloc[s,index] = wa_time"
   ]
  },
  {
   "cell_type": "code",
   "execution_count": null,
   "metadata": {},
   "outputs": [],
   "source": [
    "df.to_csv(r'C:\\Users\\user\\Desktop\\마지막5.csv', encoding=\"utf-8-sig\",index=False)"
   ]
  }
 ],
 "metadata": {
  "kernelspec": {
   "display_name": "base",
   "language": "python",
   "name": "python3"
  },
  "language_info": {
   "name": "python",
   "version": "3.9.12 (main, Apr  4 2022, 05:22:27) [MSC v.1916 64 bit (AMD64)]"
  },
  "orig_nbformat": 4,
  "vscode": {
   "interpreter": {
    "hash": "ad2bdc8ecc057115af97d19610ffacc2b4e99fae6737bb82f5d7fb13d2f2c186"
   }
  }
 },
 "nbformat": 4,
 "nbformat_minor": 2
}
